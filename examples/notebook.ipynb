{
 "cells": [
  {
   "cell_type": "code",
   "execution_count": null,
   "metadata": {},
   "outputs": [],
   "source": [
    "%pip install --upgrade pip\n",
    "%pip install python2verilog[full]"
   ]
  },
  {
   "cell_type": "code",
   "execution_count": null,
   "metadata": {},
   "outputs": [],
   "source": [
    "from python2verilog import verilogify, namespace_to_verilog, get_namespace\n",
    "from python2verilog.utils import make_visual\n",
    "\n",
    "ns = get_namespace(\"./notebook\")\n",
    "\n",
    "\n",
    "@verilogify(namespace=ns)\n",
    "def colored_circle(centre_x, centre_y, radius, color):\n",
    "    offset_y = 0\n",
    "    offset_x = radius\n",
    "    crit = 1 - radius\n",
    "    while offset_y <= offset_x:\n",
    "        yield (centre_x + offset_x, centre_y + offset_y, color)  # -- octant 1\n",
    "        yield (centre_x + offset_y, centre_y + offset_x, color)  # -- octant 2\n",
    "        yield (centre_x - offset_x, centre_y + offset_y, color)  # -- octant 4\n",
    "        yield (centre_x - offset_y, centre_y + offset_x, color)  # -- octant 3\n",
    "        yield (centre_x - offset_x, centre_y - offset_y, color)  # -- octant 5\n",
    "        yield (centre_x - offset_y, centre_y - offset_x, color)  # -- octant 6\n",
    "        yield (centre_x + offset_x, centre_y - offset_y, color)  # -- octant 8\n",
    "        yield (centre_x + offset_y, centre_y - offset_x, color)  # -- octant 7\n",
    "        offset_y = offset_y + 1\n",
    "        if crit <= 0:\n",
    "            crit = crit + 2 * offset_y + 1\n",
    "        else:\n",
    "            offset_x = offset_x - 1\n",
    "            crit = crit + 2 * (offset_y - offset_x) + 1\n",
    "\n",
    "\n",
    "@verilogify(namespace=ns)\n",
    "def olympic_logo(mid_x, mid_y, radius):\n",
    "    spread = radius - 2\n",
    "    gen = colored_circle(mid_x, mid_y + spread, radius, 50)\n",
    "    for x, y, color in gen:\n",
    "        yield x, y, color\n",
    "    gen = colored_circle(mid_x + spread * 2, mid_y + spread, radius, 180)\n",
    "    for x, y, color in gen:\n",
    "        yield x, y, color\n",
    "    gen = colored_circle(mid_x - spread * 2, mid_y + spread, radius, 500)\n",
    "    for x, y, color in gen:\n",
    "        yield x, y, color\n",
    "    gen = colored_circle(mid_x + spread, mid_y - spread, radius, 400)\n",
    "    for x, y, color in gen:\n",
    "        yield x, y, color\n",
    "    gen = colored_circle(mid_x - spread, mid_y - spread, radius, 300)\n",
    "    for x, y, color in gen:\n",
    "        yield x, y, color\n",
    "\n",
    "\n",
    "make_visual(olympic_logo(25, 25, 7))\n",
    "\n",
    "module, testbench = namespace_to_verilog(ns)\n",
    "\n",
    "print(module)\n",
    "print(testbench)\n"
   ]
  }
 ],
 "metadata": {
  "kernelspec": {
   "display_name": "Python 3",
   "language": "python",
   "name": "python3"
  },
  "language_info": {
   "codemirror_mode": {
    "name": "ipython",
    "version": 3
   },
   "file_extension": ".py",
   "mimetype": "text/x-python",
   "name": "python",
   "nbconvert_exporter": "python",
   "pygments_lexer": "ipython3",
   "version": "3.10.12"
  },
  "orig_nbformat": 4
 },
 "nbformat": 4,
 "nbformat_minor": 2
}
