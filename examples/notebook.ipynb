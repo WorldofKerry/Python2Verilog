{
 "cells": [
  {
   "cell_type": "code",
   "execution_count": null,
   "metadata": {},
   "outputs": [],
   "source": [
    "%pip install --upgrade pip\n",
    "%pip install python2verilog[full]"
   ]
  },
  {
   "cell_type": "code",
   "execution_count": null,
   "metadata": {},
   "outputs": [],
   "source": [
    "import matplotlib.pyplot as plt\n",
    "import random\n",
    "import numpy as np\n",
    "from typing import Optional\n",
    "from python2verilog import verilogify, Modes, context_to_verilog\n",
    "from python2verilog.utils import make_visual\n"
   ]
  },
  {
   "cell_type": "code",
   "execution_count": null,
   "metadata": {},
   "outputs": [],
   "source": [
    "namespace = {}\n",
    "\n",
    "\n",
    "@verilogify(\n",
    "    namespace=namespace,\n",
    "    mode=Modes.OVERWRITE,\n",
    ")\n",
    "def draw_circle(centre_x, centre_y, radius):\n",
    "    offset_y = 0\n",
    "    offset_x = radius\n",
    "    crit = 1 - radius\n",
    "    while offset_y <= offset_x:\n",
    "        yield (centre_x + offset_x, centre_y + offset_y)  # -- octant 1\n",
    "        yield (centre_x + offset_y, centre_y + offset_x)  # -- octant 2\n",
    "        yield (centre_x - offset_x, centre_y + offset_y)  # -- octant 4\n",
    "        yield (centre_x - offset_y, centre_y + offset_x)  # -- octant 3\n",
    "        yield (centre_x - offset_x, centre_y - offset_y)  # -- octant 5\n",
    "        yield (centre_x - offset_y, centre_y - offset_x)  # -- octant 6\n",
    "        yield (centre_x + offset_x, centre_y - offset_y)  # -- octant 8\n",
    "        yield (centre_x + offset_y, centre_y - offset_x)  # -- octant 7\n",
    "        offset_y = offset_y + 1\n",
    "        if crit <= 0:\n",
    "            crit = crit + 2 * offset_y + 1\n",
    "        else:\n",
    "            offset_x = offset_x - 1\n",
    "            crit = crit + 2 * (offset_y - offset_x) + 1\n",
    "\n",
    "\n",
    "for _ in range(3):\n",
    "    x, y, radius = random.randint(10, 30), random.randint(10, 30), random.randint(1, 10)\n",
    "    print(f\"x: {x}, y: {y}, radius: {radius}\")\n",
    "    make_visual(draw_circle(x, y, radius))\n",
    "\n",
    "module, testbench = context_to_verilog(namespace[draw_circle.__name__])\n",
    "\n",
    "print(module)\n",
    "print(testbench)\n"
   ]
  }
 ],
 "metadata": {
  "kernelspec": {
   "display_name": "Python 3",
   "language": "python",
   "name": "python3"
  },
  "language_info": {
   "codemirror_mode": {
    "name": "ipython",
    "version": 3
   },
   "file_extension": ".py",
   "mimetype": "text/x-python",
   "name": "python",
   "nbconvert_exporter": "python",
   "pygments_lexer": "ipython3",
   "version": "3.10.12"
  },
  "orig_nbformat": 4
 },
 "nbformat": 4,
 "nbformat_minor": 2
}
