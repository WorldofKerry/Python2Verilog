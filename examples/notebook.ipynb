{
 "cells": [
  {
   "cell_type": "code",
   "execution_count": null,
   "metadata": {},
   "outputs": [],
   "source": [
    "%pip install --upgrade pip\n",
    "%pip install python2verilog[full]"
   ]
  },
  {
   "cell_type": "code",
   "execution_count": 1,
   "metadata": {},
   "outputs": [
    {
     "ename": "RuntimeError",
     "evalue": "verilogify: parameter `namespace` is required in IPython / Jupyter notebook instances",
     "output_type": "error",
     "traceback": [
      "\u001b[0;31m---------------------------------------------------------------------------\u001b[0m",
      "\u001b[0;31mRuntimeError\u001b[0m                              Traceback (most recent call last)",
      "\u001b[1;32m/home/kerry/repos/Python2Verilog/examples/notebook.ipynb Cell 2\u001b[0m line \u001b[0;36m7\n\u001b[1;32m      <a href='vscode-notebook-cell://wsl%2Bubuntu-22.04/home/kerry/repos/Python2Verilog/examples/notebook.ipynb#W1sdnNjb2RlLXJlbW90ZQ%3D%3D?line=1'>2</a>\u001b[0m \u001b[39mfrom\u001b[39;00m \u001b[39mpython2verilog\u001b[39;00m \u001b[39mimport\u001b[39;00m verilogify, namespace_to_verilog, get_context\n\u001b[1;32m      <a href='vscode-notebook-cell://wsl%2Bubuntu-22.04/home/kerry/repos/Python2Verilog/examples/notebook.ipynb#W1sdnNjb2RlLXJlbW90ZQ%3D%3D?line=2'>3</a>\u001b[0m \u001b[39mfrom\u001b[39;00m \u001b[39mpython2verilog\u001b[39;00m\u001b[39m.\u001b[39;00m\u001b[39mutils\u001b[39;00m \u001b[39mimport\u001b[39;00m make_visual\n\u001b[1;32m      <a href='vscode-notebook-cell://wsl%2Bubuntu-22.04/home/kerry/repos/Python2Verilog/examples/notebook.ipynb#W1sdnNjb2RlLXJlbW90ZQ%3D%3D?line=5'>6</a>\u001b[0m \u001b[39m@verilogify\u001b[39;49m\n\u001b[0;32m----> <a href='vscode-notebook-cell://wsl%2Bubuntu-22.04/home/kerry/repos/Python2Verilog/examples/notebook.ipynb#W1sdnNjb2RlLXJlbW90ZQ%3D%3D?line=6'>7</a>\u001b[0m \u001b[39mdef\u001b[39;49;00m \u001b[39mdraw_circle\u001b[39;49m(centre_x, centre_y, radius):\n\u001b[1;32m      <a href='vscode-notebook-cell://wsl%2Bubuntu-22.04/home/kerry/repos/Python2Verilog/examples/notebook.ipynb#W1sdnNjb2RlLXJlbW90ZQ%3D%3D?line=7'>8</a>\u001b[0m     offset_y \u001b[39m=\u001b[39;49m \u001b[39m0\u001b[39;49m\n\u001b[1;32m      <a href='vscode-notebook-cell://wsl%2Bubuntu-22.04/home/kerry/repos/Python2Verilog/examples/notebook.ipynb#W1sdnNjb2RlLXJlbW90ZQ%3D%3D?line=8'>9</a>\u001b[0m     offset_x \u001b[39m=\u001b[39;49m radius\n",
      "File \u001b[0;32m~/.local/lib/python3.10/site-packages/python2verilog/utils/decorator.py:24\u001b[0m, in \u001b[0;36mdecorator_with_args.<locals>.new_dec\u001b[0;34m(*args, **kwargs)\u001b[0m\n\u001b[1;32m     20\u001b[0m \u001b[39m@wraps\u001b[39m(func)\n\u001b[1;32m     21\u001b[0m \u001b[39mdef\u001b[39;00m \u001b[39mnew_dec\u001b[39m(\u001b[39m*\u001b[39margs, \u001b[39m*\u001b[39m\u001b[39m*\u001b[39mkwargs):\n\u001b[1;32m     22\u001b[0m     \u001b[39mif\u001b[39;00m \u001b[39mlen\u001b[39m(args) \u001b[39m==\u001b[39m \u001b[39m1\u001b[39m \u001b[39mand\u001b[39;00m \u001b[39mlen\u001b[39m(kwargs) \u001b[39m==\u001b[39m \u001b[39m0\u001b[39m \u001b[39mand\u001b[39;00m \u001b[39misinstance\u001b[39m(args[\u001b[39m0\u001b[39m], FunctionType):\n\u001b[1;32m     23\u001b[0m         \u001b[39m# actual decorated function\u001b[39;00m\n\u001b[0;32m---> 24\u001b[0m         \u001b[39mreturn\u001b[39;00m func(args[\u001b[39m0\u001b[39;49m])\n\u001b[1;32m     25\u001b[0m     \u001b[39m# decorator arguments\u001b[39;00m\n\u001b[1;32m     26\u001b[0m     \u001b[39mreturn\u001b[39;00m \u001b[39mlambda\u001b[39;00m real_func: func(real_func, \u001b[39m*\u001b[39margs, \u001b[39m*\u001b[39m\u001b[39m*\u001b[39mkwargs)\n",
      "File \u001b[0;32m~/.local/lib/python3.10/site-packages/python2verilog/api/verilogify.py:48\u001b[0m, in \u001b[0;36mverilogify\u001b[0;34m(func, namespace, optimization_level, mode)\u001b[0m\n\u001b[1;32m     44\u001b[0m     \u001b[39mreturn\u001b[39;00m \u001b[39mnot\u001b[39;00m \u001b[39mhasattr\u001b[39m(main, \u001b[39m\"\u001b[39m\u001b[39m__file__\u001b[39m\u001b[39m\"\u001b[39m)\n\u001b[1;32m     46\u001b[0m \u001b[39mif\u001b[39;00m is_ipython():\n\u001b[1;32m     47\u001b[0m     \u001b[39m# No way to query caller filename in IPython / Jupyter notebook\u001b[39;00m\n\u001b[0;32m---> 48\u001b[0m     \u001b[39mraise\u001b[39;00m \u001b[39mRuntimeError\u001b[39;00m(\n\u001b[1;32m     49\u001b[0m         \u001b[39mf\u001b[39m\u001b[39m\"\u001b[39m\u001b[39m{\u001b[39;00mverilogify\u001b[39m.\u001b[39m\u001b[39m__name__\u001b[39m\u001b[39m}\u001b[39;00m\u001b[39m: parameter `\u001b[39m\u001b[39m{\u001b[39;00m\u001b[39mf\u001b[39m\u001b[39m'\u001b[39m\u001b[39m{\u001b[39;00mnamespace\u001b[39m=}\u001b[39;00m\u001b[39m'\u001b[39m\u001b[39m.\u001b[39mpartition(\u001b[39m'\u001b[39m\u001b[39m=\u001b[39m\u001b[39m'\u001b[39m)[\u001b[39m0\u001b[39m]\u001b[39m}\u001b[39;00m\u001b[39m` is required in IPython / Jupyter notebook instances\u001b[39m\u001b[39m\"\u001b[39m\n\u001b[1;32m     50\u001b[0m     )\n\u001b[1;32m     51\u001b[0m \u001b[39melse\u001b[39;00m:\n\u001b[1;32m     52\u001b[0m     \u001b[39m# Get caller filename for default output paths\u001b[39;00m\n\u001b[1;32m     53\u001b[0m     \u001b[39m# .stack()[2] as this function uses a decorator, so the first frames' filename\u001b[39;00m\n\u001b[1;32m     54\u001b[0m     \u001b[39m# is the filename that contains that decorator\u001b[39;00m\n\u001b[1;32m     55\u001b[0m     filename \u001b[39m=\u001b[39m inspect\u001b[39m.\u001b[39mstack()[\u001b[39m2\u001b[39m]\u001b[39m.\u001b[39mfilename\n",
      "\u001b[0;31mRuntimeError\u001b[0m: verilogify: parameter `namespace` is required in IPython / Jupyter notebook instances"
     ]
    }
   ],
   "source": [
    "from pathlib import Path\n",
    "import random\n",
    "from python2verilog import verilogify, namespace_to_verilog, get_context, new_namespace\n",
    "from python2verilog.utils import make_visual\n",
    "\n",
    "ns = new_namespace(Path(__file__).parent / \"notebook\")\n",
    "\n",
    "\n",
    "@verilogify(namespace=ns)\n",
    "def draw_circle(centre_x, centre_y, radius):\n",
    "    offset_y = 0\n",
    "    offset_x = radius\n",
    "    crit = 1 - radius\n",
    "    while offset_y <= offset_x:\n",
    "        yield (centre_x + offset_x, centre_y + offset_y)  # -- octant 1\n",
    "        yield (centre_x + offset_y, centre_y + offset_x)  # -- octant 2\n",
    "        yield (centre_x - offset_x, centre_y + offset_y)  # -- octant 4\n",
    "        yield (centre_x - offset_y, centre_y + offset_x)  # -- octant 3\n",
    "        yield (centre_x - offset_x, centre_y - offset_y)  # -- octant 5\n",
    "        yield (centre_x - offset_y, centre_y - offset_x)  # -- octant 6\n",
    "        yield (centre_x + offset_x, centre_y - offset_y)  # -- octant 8\n",
    "        yield (centre_x + offset_y, centre_y - offset_x)  # -- octant 7\n",
    "        offset_y = offset_y + 1\n",
    "        if crit <= 0:\n",
    "            crit = crit + 2 * offset_y + 1\n",
    "        else:\n",
    "            offset_x = offset_x - 1\n",
    "            crit = crit + 2 * (offset_y - offset_x) + 1\n",
    "\n",
    "\n",
    "for _ in range(3):\n",
    "    x, y, radius = random.randint(10, 30), random.randint(10, 30), random.randint(1, 10)\n",
    "    print(f\"x: {x}, y: {y}, radius: {radius}\")\n",
    "    make_visual(draw_circle(x, y, radius))\n",
    "\n",
    "module, testbench = namespace_to_verilog(get_context(draw_circle).namespace)\n",
    "\n",
    "print(module)\n",
    "print(testbench)"
   ]
  }
 ],
 "metadata": {
  "kernelspec": {
   "display_name": "Python 3",
   "language": "python",
   "name": "python3"
  },
  "language_info": {
   "codemirror_mode": {
    "name": "ipython",
    "version": 3
   },
   "file_extension": ".py",
   "mimetype": "text/x-python",
   "name": "python",
   "nbconvert_exporter": "python",
   "pygments_lexer": "ipython3",
   "version": "3.10.12"
  },
  "orig_nbformat": 4
 },
 "nbformat": 4,
 "nbformat_minor": 2
}
